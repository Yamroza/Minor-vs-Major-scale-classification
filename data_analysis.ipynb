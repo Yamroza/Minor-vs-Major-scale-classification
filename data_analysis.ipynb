{
 "cells": [
  {
   "cell_type": "markdown",
   "id": "8cb942dc",
   "metadata": {},
   "source": [
    "# Analiza danych\n",
    "## Zestaw tracks (utwory)\n",
    "\n",
    "Zadanie dotyczy określenia charakterystyki utworu, jaką jest tryb (dur lub moll), zatem oczekujemy, że najważniejsze dane są zawarte w zestawie zawierającym utwory"
   ]
  },
  {
   "cell_type": "code",
   "execution_count": 53,
   "id": "8ff9ed98",
   "metadata": {},
   "outputs": [],
   "source": [
    "import great_expectations as gx\n",
    "import pandas as pd\n",
    "df = pd.read_json(\"IUM23L_Zad_08_03_v1/tracks.jsonl\", lines=True)\n",
    "gdf = gx.from_pandas(df)"
   ]
  },
  {
   "cell_type": "markdown",
   "id": "6eef43b3",
   "metadata": {},
   "source": [
    "### Ogólne informacje o danych w tabeli \n",
    "\n",
    "#### Wnioski\n",
    "* wiele column zawiera wartości null, w szczególności id, name, popularity, id_artist\n",
    "* nie jest jasne co reprezentują dane kolumny (potrzebny opis)"
   ]
  },
  {
   "cell_type": "code",
   "execution_count": 54,
   "id": "4cb36236",
   "metadata": {},
   "outputs": [
    {
     "name": "stdout",
     "output_type": "stream",
     "text": [
      "<class 'pandas.core.frame.DataFrame'>\n",
      "RangeIndex: 129648 entries, 0 to 129647\n",
      "Data columns (total 17 columns):\n",
      " #   Column            Non-Null Count   Dtype  \n",
      "---  ------            --------------   -----  \n",
      " 0   id                103587 non-null  object \n",
      " 1   name              103775 non-null  object \n",
      " 2   popularity        103772 non-null  float64\n",
      " 3   duration_ms       129648 non-null  int64  \n",
      " 4   explicit          129648 non-null  int64  \n",
      " 5   id_artist         103849 non-null  object \n",
      " 6   release_date      129648 non-null  object \n",
      " 7   danceability      129648 non-null  float64\n",
      " 8   energy            129648 non-null  float64\n",
      " 9   key               129648 non-null  int64  \n",
      " 10  loudness          129648 non-null  float64\n",
      " 11  speechiness       129648 non-null  float64\n",
      " 12  acousticness      129648 non-null  float64\n",
      " 13  instrumentalness  129648 non-null  float64\n",
      " 14  liveness          129648 non-null  float64\n",
      " 15  valence           129648 non-null  float64\n",
      " 16  tempo             129648 non-null  float64\n",
      "dtypes: float64(10), int64(3), object(4)\n",
      "memory usage: 16.8+ MB\n"
     ]
    }
   ],
   "source": [
    "df.info()"
   ]
  },
  {
   "cell_type": "markdown",
   "id": "b1863233",
   "metadata": {},
   "source": [
    "#### Szczegółowe informacje o kolumnie `id`\n",
    "\n",
    "Wszystkie obecne id utworów są niepowtarzalne, jednak aż 20% obecnych utworów nie posiada `id`. Z tego powodu nie można zagwarantować, że w rzeczywistości są to różne utwory"
   ]
  },
  {
   "cell_type": "code",
   "execution_count": 55,
   "id": "361796ff",
   "metadata": {},
   "outputs": [
    {
     "data": {
      "text/plain": [
       "{\n",
       "  \"meta\": {},\n",
       "  \"success\": true,\n",
       "  \"exception_info\": {\n",
       "    \"raised_exception\": false,\n",
       "    \"exception_traceback\": null,\n",
       "    \"exception_message\": null\n",
       "  },\n",
       "  \"result\": {\n",
       "    \"element_count\": 129648,\n",
       "    \"missing_count\": 26061,\n",
       "    \"missing_percent\": 20.10135135135135,\n",
       "    \"unexpected_count\": 0,\n",
       "    \"unexpected_percent\": 0.0,\n",
       "    \"unexpected_percent_total\": 0.0,\n",
       "    \"unexpected_percent_nonmissing\": 0.0,\n",
       "    \"partial_unexpected_list\": []\n",
       "  }\n",
       "}"
      ]
     },
     "execution_count": 55,
     "metadata": {},
     "output_type": "execute_result"
    }
   ],
   "source": [
    "gdf.expect_column_values_to_be_unique(\"id\")"
   ]
  },
  {
   "cell_type": "markdown",
   "id": "200c4e5d",
   "metadata": {},
   "source": [
    "Jedynie 4 wiersze zawierają zdublowane dane (ale z tak dużą reprezentacją wartości null, nie jest to wiarygodna statystyka)"
   ]
  },
  {
   "cell_type": "code",
   "execution_count": 56,
   "id": "ffc75011",
   "metadata": {},
   "outputs": [
    {
     "data": {
      "text/plain": [
       "False    129644\n",
       "True          4\n",
       "dtype: int64"
      ]
     },
     "execution_count": 56,
     "metadata": {},
     "output_type": "execute_result"
    }
   ],
   "source": [
    "df.duplicated().value_counts()"
   ]
  },
  {
   "cell_type": "markdown",
   "id": "096570f8",
   "metadata": {},
   "source": [
    "### Analiza domenowa\n",
    "\n",
    "W klasycznej muzyce europejskiej tonacja (ang. key) utworu decyduje o wyborze siedmiu z pośród dwunastu dźwięków skali chromatycznej. Tryb (dur/moll) utworu w uproszczeniu mówi o tym, wokół których dźwięków tak otrzymanej siedmiostopniowej skali oscyluje melodia i które akordy powodują powstanie napięcia i jego rozwiązanie - jeszcze prostszymi słowy, czy w utworze dominują akordy mollowe czy durowe.\n",
    "\n",
    "W odbiorze utworu, zazwyczaj utwory w trybie durowym są uznawane za pozytywne i radosne, zaś utwory w trybie mollowym - za smutne czy melancholijne. Opis słowny tego zjawiska wydaje się odpowiadać blisko opisowi atrybutu `valence`:\n",
    "\n",
    "```\n",
    "A measure from 0.0 to 1.0 describing the musical positiveness conveyed by a track. Tracks with high valence sound more positive (e.g. happy, cheerful, euphoric), while tracks with low valence sound more negative (e.g. sad, depressed, angry).\n",
    "```\n",
    "\n",
    "W związku brakiem jakiegokolwiek zbioru testowego z poprawnie zdefiniowaną wartością trybu, jedną z propozycji może być użycie atrybutu `valence` jako obiektu klasyfikacji - dla użytkownika końcowego \"nastrój\" utworu jest więcej mówiącą cechą niż teoretyczny \"tryb\""
   ]
  },
  {
   "cell_type": "markdown",
   "id": "ac30359f",
   "metadata": {},
   "source": [
    "#### Hipoteza o zależności charakteru utworu od tonacji\n",
    "\n",
    "W teorii wybór tonacji nie decyduje o trybie (utwór może być w tonacji C-dur, jak i C-moll), jednakże w praktyce dla niektórych instrumentalistów pewne tonacje są prostsze od innych (na przykład prościej jest grać w skali C-dur niż w C-moll - w tej pierwszej pianista używa tylko białych klawiszy, a w tej drugiej - aż trzech czarnych). Z tego powodu powstała hipotezę, że dla klucza C przewagę powinny stanowić utwory durowe, czyli średnia wartość `valence` powinna być wysoka. Dla odmiany na przykład w kluczu A łatwiej grać w skali mollowej niż durowej, a zatem oczekiwane `valence` powinno być niskie.\n",
    "\n",
    "Hipoteza jednak upadła. Tabela poniżej przedstawia średnią wartość `valence` dla każdego klucza - widać, że tonacja nie ma prawie żadnego wpływu na `valence`."
   ]
  },
  {
   "cell_type": "code",
   "execution_count": 57,
   "id": "85bcc020",
   "metadata": {},
   "outputs": [],
   "source": [
    "df[\"key\"].replace({0: \"C\", 1: \"C#\", 2: \"D\", 3: \"D#\", 4: \"E\", 5: \"F\", 6: \"F#\", 7: \"G\", 8: \"G#\", 9: \"A\", 10: \"A#\", 11: \"B\"},\n",
    "          inplace=True)"
   ]
  },
  {
   "cell_type": "code",
   "execution_count": 58,
   "id": "0b132021",
   "metadata": {},
   "outputs": [
    {
     "data": {
      "text/plain": [
       "key\n",
       "A     0.572955\n",
       "A#    0.567601\n",
       "B     0.571340\n",
       "C     0.567314\n",
       "C#    0.553516\n",
       "D     0.557430\n",
       "D#    0.537089\n",
       "E     0.547899\n",
       "F     0.574719\n",
       "F#    0.561251\n",
       "G     0.566676\n",
       "G#    0.560948\n",
       "Name: valence, dtype: float64"
      ]
     },
     "execution_count": 58,
     "metadata": {},
     "output_type": "execute_result"
    }
   ],
   "source": [
    "df.groupby([\"key\"]).mean()[\"valence\"]"
   ]
  },
  {
   "cell_type": "markdown",
   "id": "c30205d4",
   "metadata": {},
   "source": [
    "Na badanie może rzutować fakt, że pewnie tonacje (key) występują częściej niż pozostałe:"
   ]
  },
  {
   "cell_type": "code",
   "execution_count": 59,
   "id": "d5abfb15",
   "metadata": {},
   "outputs": [
    {
     "data": {
      "text/plain": [
       "key\n",
       "C     16686\n",
       "G     16466\n",
       "A     15219\n",
       "D     15118\n",
       "F     11655\n",
       "E     11090\n",
       "B      8781\n",
       "C#     8522\n",
       "A#     7921\n",
       "G#     7182\n",
       "F#     6607\n",
       "D#     4401\n",
       "dtype: int64"
      ]
     },
     "execution_count": 59,
     "metadata": {},
     "output_type": "execute_result"
    }
   ],
   "source": [
    "df.groupby([\"key\"]).size().sort_values(ascending=False)"
   ]
  }
 ],
 "metadata": {
  "kernelspec": {
   "display_name": "Python 3 (ipykernel)",
   "language": "python",
   "name": "python3"
  },
  "language_info": {
   "codemirror_mode": {
    "name": "ipython",
    "version": 3
   },
   "file_extension": ".py",
   "mimetype": "text/x-python",
   "name": "python",
   "nbconvert_exporter": "python",
   "pygments_lexer": "ipython3",
   "version": "3.8.10"
  }
 },
 "nbformat": 4,
 "nbformat_minor": 5
}
