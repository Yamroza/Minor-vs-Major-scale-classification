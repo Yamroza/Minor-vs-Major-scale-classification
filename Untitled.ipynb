{
 "cells": [
  {
   "cell_type": "markdown",
   "id": "8cb942dc",
   "metadata": {},
   "source": [
    "# Analiza danych\n",
    "Ja naprawdę nie wiem co my mamy robić :'("
   ]
  },
  {
   "cell_type": "code",
   "execution_count": 30,
   "id": "8ff9ed98",
   "metadata": {},
   "outputs": [],
   "source": [
    "import great_expectations as gx\n",
    "import pandas as pd\n",
    "df = pd.read_json(\"IUM23L_Zad_08_03_v1/tracks.jsonl\", lines=True)"
   ]
  },
  {
   "cell_type": "code",
   "execution_count": 31,
   "id": "94403c9e",
   "metadata": {},
   "outputs": [],
   "source": [
    "gdf = gx.from_pandas(df)"
   ]
  },
  {
   "cell_type": "markdown",
   "id": "6eef43b3",
   "metadata": {},
   "source": [
    "### Ogólne info o tabeli z utworkami\n",
    "Jak jest każdy widzi\n",
    "Nic o trybie durr i moll..."
   ]
  },
  {
   "cell_type": "code",
   "execution_count": 32,
   "id": "4cb36236",
   "metadata": {},
   "outputs": [
    {
     "name": "stdout",
     "output_type": "stream",
     "text": [
      "<class 'pandas.core.frame.DataFrame'>\n",
      "RangeIndex: 129648 entries, 0 to 129647\n",
      "Data columns (total 17 columns):\n",
      " #   Column            Non-Null Count   Dtype  \n",
      "---  ------            --------------   -----  \n",
      " 0   id                103587 non-null  object \n",
      " 1   name              103775 non-null  object \n",
      " 2   popularity        103772 non-null  float64\n",
      " 3   duration_ms       129648 non-null  int64  \n",
      " 4   explicit          129648 non-null  int64  \n",
      " 5   id_artist         103849 non-null  object \n",
      " 6   release_date      129648 non-null  object \n",
      " 7   danceability      129648 non-null  float64\n",
      " 8   energy            129648 non-null  float64\n",
      " 9   key               129648 non-null  int64  \n",
      " 10  loudness          129648 non-null  float64\n",
      " 11  speechiness       129648 non-null  float64\n",
      " 12  acousticness      129648 non-null  float64\n",
      " 13  instrumentalness  129648 non-null  float64\n",
      " 14  liveness          129648 non-null  float64\n",
      " 15  valence           129648 non-null  float64\n",
      " 16  tempo             129648 non-null  float64\n",
      "dtypes: float64(10), int64(3), object(4)\n",
      "memory usage: 16.8+ MB\n"
     ]
    }
   ],
   "source": [
    "df.info()"
   ]
  },
  {
   "cell_type": "markdown",
   "id": "560f7a57",
   "metadata": {},
   "source": [
    "Mamy tylko 4 duplikaty więc nie ma źle"
   ]
  },
  {
   "cell_type": "code",
   "execution_count": 33,
   "id": "ffc75011",
   "metadata": {},
   "outputs": [
    {
     "data": {
      "text/plain": [
       "False    129644\n",
       "True          4\n",
       "dtype: int64"
      ]
     },
     "execution_count": 33,
     "metadata": {},
     "output_type": "execute_result"
    }
   ],
   "source": [
    "df.duplicated().value_counts()"
   ]
  },
  {
   "cell_type": "markdown",
   "id": "0d12d0a1",
   "metadata": {},
   "source": [
    "To jest całkiem ciekawe, bo mamy 26 tysięcy utworów bez id, ale może to nie ma znaczenia"
   ]
  },
  {
   "cell_type": "code",
   "execution_count": 34,
   "id": "6a6fd78c",
   "metadata": {},
   "outputs": [
    {
     "data": {
      "text/plain": [
       "{\n",
       "  \"success\": true,\n",
       "  \"exception_info\": {\n",
       "    \"raised_exception\": false,\n",
       "    \"exception_traceback\": null,\n",
       "    \"exception_message\": null\n",
       "  },\n",
       "  \"meta\": {},\n",
       "  \"result\": {\n",
       "    \"element_count\": 129648,\n",
       "    \"missing_count\": 26061,\n",
       "    \"missing_percent\": 20.10135135135135,\n",
       "    \"unexpected_count\": 0,\n",
       "    \"unexpected_percent\": 0.0,\n",
       "    \"unexpected_percent_total\": 0.0,\n",
       "    \"unexpected_percent_nonmissing\": 0.0,\n",
       "    \"partial_unexpected_list\": []\n",
       "  }\n",
       "}"
      ]
     },
     "execution_count": 34,
     "metadata": {},
     "output_type": "execute_result"
    }
   ],
   "source": [
    "gdf.expect_column_values_to_be_unique(\"id\")"
   ]
  },
  {
   "cell_type": "code",
   "execution_count": null,
   "id": "0b132021",
   "metadata": {},
   "outputs": [],
   "source": []
  },
  {
   "cell_type": "code",
   "execution_count": null,
   "id": "d5abfb15",
   "metadata": {},
   "outputs": [],
   "source": []
  }
 ],
 "metadata": {
  "kernelspec": {
   "display_name": "Python 3 (ipykernel)",
   "language": "python",
   "name": "python3"
  },
  "language_info": {
   "codemirror_mode": {
    "name": "ipython",
    "version": 3
   },
   "file_extension": ".py",
   "mimetype": "text/x-python",
   "name": "python",
   "nbconvert_exporter": "python",
   "pygments_lexer": "ipython3",
   "version": "3.8.10"
  }
 },
 "nbformat": 4,
 "nbformat_minor": 5
}
