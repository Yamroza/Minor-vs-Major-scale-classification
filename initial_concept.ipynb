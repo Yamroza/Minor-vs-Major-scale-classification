{
 "cells": [
  {
   "cell_type": "markdown",
   "id": "b7249537",
   "metadata": {},
   "source": [
    "### Definicja problemu biznesowego"
   ]
  },
  {
   "cell_type": "markdown",
   "id": "b790f1ec",
   "metadata": {},
   "source": [
    "### Zdefiniowanie zadania/zadań modelowania i wszystkich założeń"
   ]
  },
  {
   "cell_type": "markdown",
   "id": "36fcf014",
   "metadata": {},
   "source": [
    "### Zaproponowanie kryteriów sukcesu"
   ]
  },
  {
   "cell_type": "markdown",
   "id": "2b643756",
   "metadata": {},
   "source": [
    "### Analiza danych"
   ]
  }
 ],
 "metadata": {
  "kernelspec": {
   "display_name": "Python 3 (ipykernel)",
   "language": "python",
   "name": "python3"
  },
  "language_info": {
   "codemirror_mode": {
    "name": "ipython",
    "version": 3
   },
   "file_extension": ".py",
   "mimetype": "text/x-python",
   "name": "python",
   "nbconvert_exporter": "python",
   "pygments_lexer": "ipython3",
   "version": "3.8.10"
  }
 },
 "nbformat": 4,
 "nbformat_minor": 5
}
